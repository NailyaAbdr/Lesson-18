{
  "nbformat": 4,
  "nbformat_minor": 0,
  "metadata": {
    "colab": {
      "provenance": [],
      "authorship_tag": "ABX9TyMdYe74uW6QxnvKQ+aTaFIH",
      "include_colab_link": true
    },
    "kernelspec": {
      "name": "python3",
      "display_name": "Python 3"
    },
    "language_info": {
      "name": "python"
    }
  },
  "cells": [
    {
      "cell_type": "markdown",
      "metadata": {
        "id": "view-in-github",
        "colab_type": "text"
      },
      "source": [
        "<a href=\"https://colab.research.google.com/github/NailyaAbdr/Lesson-18/blob/main/Lesson_18.ipynb\" target=\"_parent\"><img src=\"https://colab.research.google.com/assets/colab-badge.svg\" alt=\"Open In Colab\"/></a>"
      ]
    },
    {
      "cell_type": "code",
      "execution_count": null,
      "metadata": {
        "id": "PoF8SdUMm1eh"
      },
      "outputs": [],
      "source": [
        "import pandas as pd"
      ]
    },
    {
      "cell_type": "code",
      "source": [
        "1+1"
      ],
      "metadata": {
        "colab": {
          "base_uri": "https://localhost:8080/"
        },
        "id": "6-sBLw7EGnpz",
        "outputId": "36082c81-79ba-49bb-e441-6c2f8b6392e3"
      },
      "execution_count": 79,
      "outputs": [
        {
          "output_type": "execute_result",
          "data": {
            "text/plain": [
              "2"
            ]
          },
          "metadata": {},
          "execution_count": 79
        }
      ]
    },
    {
      "cell_type": "code",
      "source": [
        "data = {'Имя': ['Анна', 'Борис', None, 'Джон'],\n",
        "'Возраст': [25, 30, 28, None]}"
      ],
      "metadata": {
        "id": "cNLG6S8d0BU5"
      },
      "execution_count": null,
      "outputs": []
    },
    {
      "cell_type": "code",
      "source": [
        "df = pd.DataFrame(data)"
      ],
      "metadata": {
        "id": "ZKsNaS-G0F85"
      },
      "execution_count": null,
      "outputs": []
    },
    {
      "cell_type": "code",
      "source": [
        "df"
      ],
      "metadata": {
        "colab": {
          "base_uri": "https://localhost:8080/",
          "height": 175
        },
        "id": "Qs25DXaP0iwq",
        "outputId": "6d1282a0-1e51-4a73-d7be-379e493ba5c5"
      },
      "execution_count": null,
      "outputs": [
        {
          "output_type": "execute_result",
          "data": {
            "text/plain": [
              "     Имя  Возраст\n",
              "0   Анна     25.0\n",
              "1  Борис     30.0\n",
              "2   None     28.0\n",
              "3   Джон      NaN"
            ],
            "text/html": [
              "\n",
              "  <div id=\"df-6786c301-3193-495e-bcf3-251b50888614\" class=\"colab-df-container\">\n",
              "    <div>\n",
              "<style scoped>\n",
              "    .dataframe tbody tr th:only-of-type {\n",
              "        vertical-align: middle;\n",
              "    }\n",
              "\n",
              "    .dataframe tbody tr th {\n",
              "        vertical-align: top;\n",
              "    }\n",
              "\n",
              "    .dataframe thead th {\n",
              "        text-align: right;\n",
              "    }\n",
              "</style>\n",
              "<table border=\"1\" class=\"dataframe\">\n",
              "  <thead>\n",
              "    <tr style=\"text-align: right;\">\n",
              "      <th></th>\n",
              "      <th>Имя</th>\n",
              "      <th>Возраст</th>\n",
              "    </tr>\n",
              "  </thead>\n",
              "  <tbody>\n",
              "    <tr>\n",
              "      <th>0</th>\n",
              "      <td>Анна</td>\n",
              "      <td>25.0</td>\n",
              "    </tr>\n",
              "    <tr>\n",
              "      <th>1</th>\n",
              "      <td>Борис</td>\n",
              "      <td>30.0</td>\n",
              "    </tr>\n",
              "    <tr>\n",
              "      <th>2</th>\n",
              "      <td>None</td>\n",
              "      <td>28.0</td>\n",
              "    </tr>\n",
              "    <tr>\n",
              "      <th>3</th>\n",
              "      <td>Джон</td>\n",
              "      <td>NaN</td>\n",
              "    </tr>\n",
              "  </tbody>\n",
              "</table>\n",
              "</div>\n",
              "    <div class=\"colab-df-buttons\">\n",
              "\n",
              "  <div class=\"colab-df-container\">\n",
              "    <button class=\"colab-df-convert\" onclick=\"convertToInteractive('df-6786c301-3193-495e-bcf3-251b50888614')\"\n",
              "            title=\"Convert this dataframe to an interactive table.\"\n",
              "            style=\"display:none;\">\n",
              "\n",
              "  <svg xmlns=\"http://www.w3.org/2000/svg\" height=\"24px\" viewBox=\"0 -960 960 960\">\n",
              "    <path d=\"M120-120v-720h720v720H120Zm60-500h600v-160H180v160Zm220 220h160v-160H400v160Zm0 220h160v-160H400v160ZM180-400h160v-160H180v160Zm440 0h160v-160H620v160ZM180-180h160v-160H180v160Zm440 0h160v-160H620v160Z\"/>\n",
              "  </svg>\n",
              "    </button>\n",
              "\n",
              "  <style>\n",
              "    .colab-df-container {\n",
              "      display:flex;\n",
              "      gap: 12px;\n",
              "    }\n",
              "\n",
              "    .colab-df-convert {\n",
              "      background-color: #E8F0FE;\n",
              "      border: none;\n",
              "      border-radius: 50%;\n",
              "      cursor: pointer;\n",
              "      display: none;\n",
              "      fill: #1967D2;\n",
              "      height: 32px;\n",
              "      padding: 0 0 0 0;\n",
              "      width: 32px;\n",
              "    }\n",
              "\n",
              "    .colab-df-convert:hover {\n",
              "      background-color: #E2EBFA;\n",
              "      box-shadow: 0px 1px 2px rgba(60, 64, 67, 0.3), 0px 1px 3px 1px rgba(60, 64, 67, 0.15);\n",
              "      fill: #174EA6;\n",
              "    }\n",
              "\n",
              "    .colab-df-buttons div {\n",
              "      margin-bottom: 4px;\n",
              "    }\n",
              "\n",
              "    [theme=dark] .colab-df-convert {\n",
              "      background-color: #3B4455;\n",
              "      fill: #D2E3FC;\n",
              "    }\n",
              "\n",
              "    [theme=dark] .colab-df-convert:hover {\n",
              "      background-color: #434B5C;\n",
              "      box-shadow: 0px 1px 3px 1px rgba(0, 0, 0, 0.15);\n",
              "      filter: drop-shadow(0px 1px 2px rgba(0, 0, 0, 0.3));\n",
              "      fill: #FFFFFF;\n",
              "    }\n",
              "  </style>\n",
              "\n",
              "    <script>\n",
              "      const buttonEl =\n",
              "        document.querySelector('#df-6786c301-3193-495e-bcf3-251b50888614 button.colab-df-convert');\n",
              "      buttonEl.style.display =\n",
              "        google.colab.kernel.accessAllowed ? 'block' : 'none';\n",
              "\n",
              "      async function convertToInteractive(key) {\n",
              "        const element = document.querySelector('#df-6786c301-3193-495e-bcf3-251b50888614');\n",
              "        const dataTable =\n",
              "          await google.colab.kernel.invokeFunction('convertToInteractive',\n",
              "                                                    [key], {});\n",
              "        if (!dataTable) return;\n",
              "\n",
              "        const docLinkHtml = 'Like what you see? Visit the ' +\n",
              "          '<a target=\"_blank\" href=https://colab.research.google.com/notebooks/data_table.ipynb>data table notebook</a>'\n",
              "          + ' to learn more about interactive tables.';\n",
              "        element.innerHTML = '';\n",
              "        dataTable['output_type'] = 'display_data';\n",
              "        await google.colab.output.renderOutput(dataTable, element);\n",
              "        const docLink = document.createElement('div');\n",
              "        docLink.innerHTML = docLinkHtml;\n",
              "        element.appendChild(docLink);\n",
              "      }\n",
              "    </script>\n",
              "  </div>\n",
              "\n",
              "    </div>\n",
              "  </div>\n"
            ]
          },
          "metadata": {},
          "execution_count": 45
        }
      ]
    },
    {
      "cell_type": "code",
      "source": [
        "df.isnull()"
      ],
      "metadata": {
        "colab": {
          "base_uri": "https://localhost:8080/",
          "height": 175
        },
        "id": "ellV5ZNS0mzq",
        "outputId": "c45c9938-2001-4a2c-ecce-de1a9551c724"
      },
      "execution_count": null,
      "outputs": [
        {
          "output_type": "execute_result",
          "data": {
            "text/plain": [
              "     Имя  Возраст\n",
              "0  False    False\n",
              "1  False    False\n",
              "2   True    False\n",
              "3  False     True"
            ],
            "text/html": [
              "\n",
              "  <div id=\"df-eb993d71-9b05-4e12-990a-a2e3b64c52a9\" class=\"colab-df-container\">\n",
              "    <div>\n",
              "<style scoped>\n",
              "    .dataframe tbody tr th:only-of-type {\n",
              "        vertical-align: middle;\n",
              "    }\n",
              "\n",
              "    .dataframe tbody tr th {\n",
              "        vertical-align: top;\n",
              "    }\n",
              "\n",
              "    .dataframe thead th {\n",
              "        text-align: right;\n",
              "    }\n",
              "</style>\n",
              "<table border=\"1\" class=\"dataframe\">\n",
              "  <thead>\n",
              "    <tr style=\"text-align: right;\">\n",
              "      <th></th>\n",
              "      <th>Имя</th>\n",
              "      <th>Возраст</th>\n",
              "    </tr>\n",
              "  </thead>\n",
              "  <tbody>\n",
              "    <tr>\n",
              "      <th>0</th>\n",
              "      <td>False</td>\n",
              "      <td>False</td>\n",
              "    </tr>\n",
              "    <tr>\n",
              "      <th>1</th>\n",
              "      <td>False</td>\n",
              "      <td>False</td>\n",
              "    </tr>\n",
              "    <tr>\n",
              "      <th>2</th>\n",
              "      <td>True</td>\n",
              "      <td>False</td>\n",
              "    </tr>\n",
              "    <tr>\n",
              "      <th>3</th>\n",
              "      <td>False</td>\n",
              "      <td>True</td>\n",
              "    </tr>\n",
              "  </tbody>\n",
              "</table>\n",
              "</div>\n",
              "    <div class=\"colab-df-buttons\">\n",
              "\n",
              "  <div class=\"colab-df-container\">\n",
              "    <button class=\"colab-df-convert\" onclick=\"convertToInteractive('df-eb993d71-9b05-4e12-990a-a2e3b64c52a9')\"\n",
              "            title=\"Convert this dataframe to an interactive table.\"\n",
              "            style=\"display:none;\">\n",
              "\n",
              "  <svg xmlns=\"http://www.w3.org/2000/svg\" height=\"24px\" viewBox=\"0 -960 960 960\">\n",
              "    <path d=\"M120-120v-720h720v720H120Zm60-500h600v-160H180v160Zm220 220h160v-160H400v160Zm0 220h160v-160H400v160ZM180-400h160v-160H180v160Zm440 0h160v-160H620v160ZM180-180h160v-160H180v160Zm440 0h160v-160H620v160Z\"/>\n",
              "  </svg>\n",
              "    </button>\n",
              "\n",
              "  <style>\n",
              "    .colab-df-container {\n",
              "      display:flex;\n",
              "      gap: 12px;\n",
              "    }\n",
              "\n",
              "    .colab-df-convert {\n",
              "      background-color: #E8F0FE;\n",
              "      border: none;\n",
              "      border-radius: 50%;\n",
              "      cursor: pointer;\n",
              "      display: none;\n",
              "      fill: #1967D2;\n",
              "      height: 32px;\n",
              "      padding: 0 0 0 0;\n",
              "      width: 32px;\n",
              "    }\n",
              "\n",
              "    .colab-df-convert:hover {\n",
              "      background-color: #E2EBFA;\n",
              "      box-shadow: 0px 1px 2px rgba(60, 64, 67, 0.3), 0px 1px 3px 1px rgba(60, 64, 67, 0.15);\n",
              "      fill: #174EA6;\n",
              "    }\n",
              "\n",
              "    .colab-df-buttons div {\n",
              "      margin-bottom: 4px;\n",
              "    }\n",
              "\n",
              "    [theme=dark] .colab-df-convert {\n",
              "      background-color: #3B4455;\n",
              "      fill: #D2E3FC;\n",
              "    }\n",
              "\n",
              "    [theme=dark] .colab-df-convert:hover {\n",
              "      background-color: #434B5C;\n",
              "      box-shadow: 0px 1px 3px 1px rgba(0, 0, 0, 0.15);\n",
              "      filter: drop-shadow(0px 1px 2px rgba(0, 0, 0, 0.3));\n",
              "      fill: #FFFFFF;\n",
              "    }\n",
              "  </style>\n",
              "\n",
              "    <script>\n",
              "      const buttonEl =\n",
              "        document.querySelector('#df-eb993d71-9b05-4e12-990a-a2e3b64c52a9 button.colab-df-convert');\n",
              "      buttonEl.style.display =\n",
              "        google.colab.kernel.accessAllowed ? 'block' : 'none';\n",
              "\n",
              "      async function convertToInteractive(key) {\n",
              "        const element = document.querySelector('#df-eb993d71-9b05-4e12-990a-a2e3b64c52a9');\n",
              "        const dataTable =\n",
              "          await google.colab.kernel.invokeFunction('convertToInteractive',\n",
              "                                                    [key], {});\n",
              "        if (!dataTable) return;\n",
              "\n",
              "        const docLinkHtml = 'Like what you see? Visit the ' +\n",
              "          '<a target=\"_blank\" href=https://colab.research.google.com/notebooks/data_table.ipynb>data table notebook</a>'\n",
              "          + ' to learn more about interactive tables.';\n",
              "        element.innerHTML = '';\n",
              "        dataTable['output_type'] = 'display_data';\n",
              "        await google.colab.output.renderOutput(dataTable, element);\n",
              "        const docLink = document.createElement('div');\n",
              "        docLink.innerHTML = docLinkHtml;\n",
              "        element.appendChild(docLink);\n",
              "      }\n",
              "    </script>\n",
              "  </div>\n",
              "\n",
              "    </div>\n",
              "  </div>\n"
            ]
          },
          "metadata": {},
          "execution_count": 55
        }
      ]
    },
    {
      "cell_type": "code",
      "source": [
        "x.loc[x[\"Имя\"]==True]"
      ],
      "metadata": {
        "colab": {
          "base_uri": "https://localhost:8080/",
          "height": 81
        },
        "id": "8qBT4C142-xi",
        "outputId": "bc53463f-f600-4a12-fbf9-c021ef9da906"
      },
      "execution_count": null,
      "outputs": [
        {
          "output_type": "execute_result",
          "data": {
            "text/plain": [
              "    Имя  Возраст\n",
              "2  True    False"
            ],
            "text/html": [
              "\n",
              "  <div id=\"df-eb3eb7d7-7d11-4689-ad43-d005ee2076b6\" class=\"colab-df-container\">\n",
              "    <div>\n",
              "<style scoped>\n",
              "    .dataframe tbody tr th:only-of-type {\n",
              "        vertical-align: middle;\n",
              "    }\n",
              "\n",
              "    .dataframe tbody tr th {\n",
              "        vertical-align: top;\n",
              "    }\n",
              "\n",
              "    .dataframe thead th {\n",
              "        text-align: right;\n",
              "    }\n",
              "</style>\n",
              "<table border=\"1\" class=\"dataframe\">\n",
              "  <thead>\n",
              "    <tr style=\"text-align: right;\">\n",
              "      <th></th>\n",
              "      <th>Имя</th>\n",
              "      <th>Возраст</th>\n",
              "    </tr>\n",
              "  </thead>\n",
              "  <tbody>\n",
              "    <tr>\n",
              "      <th>2</th>\n",
              "      <td>True</td>\n",
              "      <td>False</td>\n",
              "    </tr>\n",
              "  </tbody>\n",
              "</table>\n",
              "</div>\n",
              "    <div class=\"colab-df-buttons\">\n",
              "\n",
              "  <div class=\"colab-df-container\">\n",
              "    <button class=\"colab-df-convert\" onclick=\"convertToInteractive('df-eb3eb7d7-7d11-4689-ad43-d005ee2076b6')\"\n",
              "            title=\"Convert this dataframe to an interactive table.\"\n",
              "            style=\"display:none;\">\n",
              "\n",
              "  <svg xmlns=\"http://www.w3.org/2000/svg\" height=\"24px\" viewBox=\"0 -960 960 960\">\n",
              "    <path d=\"M120-120v-720h720v720H120Zm60-500h600v-160H180v160Zm220 220h160v-160H400v160Zm0 220h160v-160H400v160ZM180-400h160v-160H180v160Zm440 0h160v-160H620v160ZM180-180h160v-160H180v160Zm440 0h160v-160H620v160Z\"/>\n",
              "  </svg>\n",
              "    </button>\n",
              "\n",
              "  <style>\n",
              "    .colab-df-container {\n",
              "      display:flex;\n",
              "      gap: 12px;\n",
              "    }\n",
              "\n",
              "    .colab-df-convert {\n",
              "      background-color: #E8F0FE;\n",
              "      border: none;\n",
              "      border-radius: 50%;\n",
              "      cursor: pointer;\n",
              "      display: none;\n",
              "      fill: #1967D2;\n",
              "      height: 32px;\n",
              "      padding: 0 0 0 0;\n",
              "      width: 32px;\n",
              "    }\n",
              "\n",
              "    .colab-df-convert:hover {\n",
              "      background-color: #E2EBFA;\n",
              "      box-shadow: 0px 1px 2px rgba(60, 64, 67, 0.3), 0px 1px 3px 1px rgba(60, 64, 67, 0.15);\n",
              "      fill: #174EA6;\n",
              "    }\n",
              "\n",
              "    .colab-df-buttons div {\n",
              "      margin-bottom: 4px;\n",
              "    }\n",
              "\n",
              "    [theme=dark] .colab-df-convert {\n",
              "      background-color: #3B4455;\n",
              "      fill: #D2E3FC;\n",
              "    }\n",
              "\n",
              "    [theme=dark] .colab-df-convert:hover {\n",
              "      background-color: #434B5C;\n",
              "      box-shadow: 0px 1px 3px 1px rgba(0, 0, 0, 0.15);\n",
              "      filter: drop-shadow(0px 1px 2px rgba(0, 0, 0, 0.3));\n",
              "      fill: #FFFFFF;\n",
              "    }\n",
              "  </style>\n",
              "\n",
              "    <script>\n",
              "      const buttonEl =\n",
              "        document.querySelector('#df-eb3eb7d7-7d11-4689-ad43-d005ee2076b6 button.colab-df-convert');\n",
              "      buttonEl.style.display =\n",
              "        google.colab.kernel.accessAllowed ? 'block' : 'none';\n",
              "\n",
              "      async function convertToInteractive(key) {\n",
              "        const element = document.querySelector('#df-eb3eb7d7-7d11-4689-ad43-d005ee2076b6');\n",
              "        const dataTable =\n",
              "          await google.colab.kernel.invokeFunction('convertToInteractive',\n",
              "                                                    [key], {});\n",
              "        if (!dataTable) return;\n",
              "\n",
              "        const docLinkHtml = 'Like what you see? Visit the ' +\n",
              "          '<a target=\"_blank\" href=https://colab.research.google.com/notebooks/data_table.ipynb>data table notebook</a>'\n",
              "          + ' to learn more about interactive tables.';\n",
              "        element.innerHTML = '';\n",
              "        dataTable['output_type'] = 'display_data';\n",
              "        await google.colab.output.renderOutput(dataTable, element);\n",
              "        const docLink = document.createElement('div');\n",
              "        docLink.innerHTML = docLinkHtml;\n",
              "        element.appendChild(docLink);\n",
              "      }\n",
              "    </script>\n",
              "  </div>\n",
              "\n",
              "    </div>\n",
              "  </div>\n"
            ]
          },
          "metadata": {},
          "execution_count": 58
        }
      ]
    },
    {
      "cell_type": "code",
      "source": [
        "df['Возраст'].sum()"
      ],
      "metadata": {
        "colab": {
          "base_uri": "https://localhost:8080/"
        },
        "id": "ePQZFW5344JS",
        "outputId": "1b9a65da-81ec-40f5-b856-9ce0c8afe102"
      },
      "execution_count": null,
      "outputs": [
        {
          "output_type": "execute_result",
          "data": {
            "text/plain": [
              "83.0"
            ]
          },
          "metadata": {},
          "execution_count": 59
        }
      ]
    },
    {
      "cell_type": "code",
      "source": [
        "df['Возраст'].min()"
      ],
      "metadata": {
        "colab": {
          "base_uri": "https://localhost:8080/"
        },
        "id": "YiJ4aIFN5BwS",
        "outputId": "2f69c1c9-e2f6-49c8-df62-ae172133d835"
      },
      "execution_count": null,
      "outputs": [
        {
          "output_type": "execute_result",
          "data": {
            "text/plain": [
              "25.0"
            ]
          },
          "metadata": {},
          "execution_count": 65
        }
      ]
    },
    {
      "cell_type": "code",
      "source": [
        "df['Возраст'].unique()"
      ],
      "metadata": {
        "colab": {
          "base_uri": "https://localhost:8080/"
        },
        "id": "8aYQ5x4P5Y7b",
        "outputId": "220cdcb6-8eb5-4572-dd4a-55551ea8c15d"
      },
      "execution_count": null,
      "outputs": [
        {
          "output_type": "execute_result",
          "data": {
            "text/plain": [
              "array([25., 30., 28., nan])"
            ]
          },
          "metadata": {},
          "execution_count": 70
        }
      ]
    },
    {
      "cell_type": "code",
      "source": [
        "data = {'Цвет': ['Красный', 'Синий', 'Зеленый', 'Красный', 'Желтый',\n",
        "'Зеленый']}\n",
        "ff= pd.DataFrame(data)"
      ],
      "metadata": {
        "id": "Hx0R4Bqp7g6K"
      },
      "execution_count": null,
      "outputs": []
    },
    {
      "cell_type": "code",
      "source": [
        "ff['Цвет'].unique()"
      ],
      "metadata": {
        "colab": {
          "base_uri": "https://localhost:8080/"
        },
        "id": "fmxhQehf7sGr",
        "outputId": "69c6796f-4afd-4f5b-dc52-b61483681ce9"
      },
      "execution_count": null,
      "outputs": [
        {
          "output_type": "execute_result",
          "data": {
            "text/plain": [
              "array(['Красный', 'Синий', 'Зеленый', 'Желтый'], dtype=object)"
            ]
          },
          "metadata": {},
          "execution_count": 76
        }
      ]
    },
    {
      "cell_type": "code",
      "source": [
        "df.corr()"
      ],
      "metadata": {
        "colab": {
          "base_uri": "https://localhost:8080/",
          "height": 533
        },
        "id": "7JlYb_If9rIE",
        "outputId": "8d5472b5-3eb0-4fc7-ae3f-bb39544cf72a"
      },
      "execution_count": null,
      "outputs": [
        {
          "output_type": "stream",
          "name": "stderr",
          "text": [
            "<ipython-input-78-2f6f6606aa2c>:1: FutureWarning: The default value of numeric_only in DataFrame.corr is deprecated. In a future version, it will default to False. Select only valid columns or specify the value of numeric_only to silence this warning.\n",
            "  df.corr()\n"
          ]
        },
        {
          "output_type": "execute_result",
          "data": {
            "text/plain": [
              "         Возраст\n",
              "Возраст      1.0"
            ],
            "text/html": [
              "\n",
              "  <div id=\"df-d782e97d-23f0-4427-b444-850cd07cf2a7\" class=\"colab-df-container\">\n",
              "    <div>\n",
              "<style scoped>\n",
              "    .dataframe tbody tr th:only-of-type {\n",
              "        vertical-align: middle;\n",
              "    }\n",
              "\n",
              "    .dataframe tbody tr th {\n",
              "        vertical-align: top;\n",
              "    }\n",
              "\n",
              "    .dataframe thead th {\n",
              "        text-align: right;\n",
              "    }\n",
              "</style>\n",
              "<table border=\"1\" class=\"dataframe\">\n",
              "  <thead>\n",
              "    <tr style=\"text-align: right;\">\n",
              "      <th></th>\n",
              "      <th>Возраст</th>\n",
              "    </tr>\n",
              "  </thead>\n",
              "  <tbody>\n",
              "    <tr>\n",
              "      <th>Возраст</th>\n",
              "      <td>1.0</td>\n",
              "    </tr>\n",
              "  </tbody>\n",
              "</table>\n",
              "</div>\n",
              "    <div class=\"colab-df-buttons\">\n",
              "\n",
              "  <div class=\"colab-df-container\">\n",
              "    <button class=\"colab-df-convert\" onclick=\"convertToInteractive('df-d782e97d-23f0-4427-b444-850cd07cf2a7')\"\n",
              "            title=\"Convert this dataframe to an interactive table.\"\n",
              "            style=\"display:none;\">\n",
              "\n",
              "  <svg xmlns=\"http://www.w3.org/2000/svg\" height=\"24px\" viewBox=\"0 -960 960 960\">\n",
              "    <path d=\"M120-120v-720h720v720H120Zm60-500h600v-160H180v160Zm220 220h160v-160H400v160Zm0 220h160v-160H400v160ZM180-400h160v-160H180v160Zm440 0h160v-160H620v160ZM180-180h160v-160H180v160Zm440 0h160v-160H620v160Z\"/>\n",
              "  </svg>\n",
              "    </button>\n",
              "\n",
              "  <style>\n",
              "    .colab-df-container {\n",
              "      display:flex;\n",
              "      gap: 12px;\n",
              "    }\n",
              "\n",
              "    .colab-df-convert {\n",
              "      background-color: #E8F0FE;\n",
              "      border: none;\n",
              "      border-radius: 50%;\n",
              "      cursor: pointer;\n",
              "      display: none;\n",
              "      fill: #1967D2;\n",
              "      height: 32px;\n",
              "      padding: 0 0 0 0;\n",
              "      width: 32px;\n",
              "    }\n",
              "\n",
              "    .colab-df-convert:hover {\n",
              "      background-color: #E2EBFA;\n",
              "      box-shadow: 0px 1px 2px rgba(60, 64, 67, 0.3), 0px 1px 3px 1px rgba(60, 64, 67, 0.15);\n",
              "      fill: #174EA6;\n",
              "    }\n",
              "\n",
              "    .colab-df-buttons div {\n",
              "      margin-bottom: 4px;\n",
              "    }\n",
              "\n",
              "    [theme=dark] .colab-df-convert {\n",
              "      background-color: #3B4455;\n",
              "      fill: #D2E3FC;\n",
              "    }\n",
              "\n",
              "    [theme=dark] .colab-df-convert:hover {\n",
              "      background-color: #434B5C;\n",
              "      box-shadow: 0px 1px 3px 1px rgba(0, 0, 0, 0.15);\n",
              "      filter: drop-shadow(0px 1px 2px rgba(0, 0, 0, 0.3));\n",
              "      fill: #FFFFFF;\n",
              "    }\n",
              "  </style>\n",
              "\n",
              "    <script>\n",
              "      const buttonEl =\n",
              "        document.querySelector('#df-d782e97d-23f0-4427-b444-850cd07cf2a7 button.colab-df-convert');\n",
              "      buttonEl.style.display =\n",
              "        google.colab.kernel.accessAllowed ? 'block' : 'none';\n",
              "\n",
              "      async function convertToInteractive(key) {\n",
              "        const element = document.querySelector('#df-d782e97d-23f0-4427-b444-850cd07cf2a7');\n",
              "        const dataTable =\n",
              "          await google.colab.kernel.invokeFunction('convertToInteractive',\n",
              "                                                    [key], {});\n",
              "        if (!dataTable) return;\n",
              "\n",
              "        const docLinkHtml = 'Like what you see? Visit the ' +\n",
              "          '<a target=\"_blank\" href=https://colab.research.google.com/notebooks/data_table.ipynb>data table notebook</a>'\n",
              "          + ' to learn more about interactive tables.';\n",
              "        element.innerHTML = '';\n",
              "        dataTable['output_type'] = 'display_data';\n",
              "        await google.colab.output.renderOutput(dataTable, element);\n",
              "        const docLink = document.createElement('div');\n",
              "        docLink.innerHTML = docLinkHtml;\n",
              "        element.appendChild(docLink);\n",
              "      }\n",
              "    </script>\n",
              "  </div>\n",
              "\n",
              "    </div>\n",
              "  </div>\n"
            ]
          },
          "metadata": {},
          "execution_count": 78
        },
        {
          "output_type": "display_data",
          "data": {
            "text/plain": [
              "<google.colab._quickchart_helpers.SectionTitle at 0x7c4534dcbb80>"
            ],
            "text/html": [
              "<h4 class=\"colab-quickchart-section-title\">Time series</h4>\n",
              "<style>\n",
              "  .colab-quickchart-section-title {\n",
              "      clear: both;\n",
              "  }\n",
              "</style>"
            ]
          },
          "metadata": {}
        },
        {
          "output_type": "display_data",
          "data": {
            "text/plain": [
              "import numpy as np\n",
              "from google.colab import autoviz\n",
              "\n",
              "def time_series_multiline(df, timelike_colname, value_colname, series_colname, figscale=1, mpl_palette_name='Dark2'):\n",
              "  from matplotlib import pyplot as plt\n",
              "  import seaborn as sns\n",
              "  figsize = (10 * figscale, 5.2 * figscale)\n",
              "  palette = list(sns.palettes.mpl_palette(mpl_palette_name))\n",
              "  def _plot_series(series, series_name, series_index=0):\n",
              "    if value_colname == 'count()':\n",
              "      counted = (series[timelike_colname]\n",
              "                 .value_counts()\n",
              "                 .reset_index(name='counts')\n",
              "                 .rename({'index': timelike_colname}, axis=1)\n",
              "                 .sort_values(timelike_colname, ascending=True))\n",
              "      xs = counted[timelike_colname]\n",
              "      ys = counted['counts']\n",
              "    else:\n",
              "      xs = series[timelike_colname]\n",
              "      ys = series[value_colname]\n",
              "    plt.plot(xs, ys, label=series_name, color=palette[series_index % len(palette)])\n",
              "\n",
              "  fig, ax = plt.subplots(figsize=figsize, layout='constrained')\n",
              "  df = df.sort_values(timelike_colname, ascending=True)\n",
              "  if series_colname:\n",
              "    for i, (series_name, series) in enumerate(df.groupby(series_colname)):\n",
              "      _plot_series(series, series_name, i)\n",
              "    fig.legend(title=series_colname, bbox_to_anchor=(1, 1), loc='upper left')\n",
              "  else:\n",
              "    _plot_series(df, '')\n",
              "  sns.despine(fig=fig, ax=ax)\n",
              "  plt.xlabel(timelike_colname)\n",
              "  plt.ylabel(value_colname)\n",
              "  return autoviz.MplChart.from_current_mpl_state()\n",
              "\n",
              "chart = time_series_multiline(_df_22, *['Возраст', 'count()', None], **{})\n",
              "chart"
            ],
            "text/html": [
              "      <div class=\"colab-quickchart-chart-with-code\" id=\"chart-ef4d675d-637b-407e-82de-16c9c8820f57\">\n",
              "        <img src=\"data:image/png;base64,iVBORw0KGgoAAAANSUhEUgAAAf8AAAEPCAYAAABMY82nAAAAOXRFWHRTb2Z0d2FyZQBNYXRwbG90\n",
              "bGliIHZlcnNpb24zLjcuMSwgaHR0cHM6Ly9tYXRwbG90bGliLm9yZy/bCgiHAAAACXBIWXMAAA9h\n",
              "AAAPYQGoP6dpAAAbPklEQVR4nO3df1BVdf7H8dcV8vqjAJtILLxcEcEQFURZf7SSrZO4G5Rixexa\n",
              "SwnhzJaubGHsLrPRtlnNZpnNrlqOu9lkuei2bNtss+WMq7INukC1WpsYeKHEH2WgpQjc8/3D2fvt\n",
              "jr9A7uECn+dj5kxz7/lweZ8zTk/uvYeLw7IsSwAAwBgDgj0AAADoWcQfAADDEH8AAAxD/AEAMAzx\n",
              "BwDAMMQfAADDEH8AAAxD/AEAMEy/j/+qVauCPQIAAL1Kv4//wYMHgz0CAAC9Sr+PPwAA8Ef8AQAw\n",
              "DPEHAMAwxB8AAMMQfwAADEP8AQAwDPEHAMAwxB8AAMMQfwAADEP8AQAwDPEHAMAwxB8AAMMQfwAA\n",
              "DEP8AQAwDPEHAMAwxB8AAMMQfwAADEP8AQAwDPEHAMAwxB8AAMMQfwAADEP8AQAwDPEHAMAwxB8A\n",
              "AMMQfwAADGNr/JcsWSK32y2Hw6GampoLrlu/fr3GjBmj0aNHKz8/X21tbX77LcvSzTffrIiICDvH\n",
              "BQDACLbGf8GCBdq5c6diYmIuuKaurk4lJSXasWOHamtrdfjwYa1bt85vzbPPPqvRo0fbOSoAAMaw\n",
              "Nf4zZ85UdHT0RdeUlZUpKytLUVFRcjgcWrx4sTZt2uTbv3fvXr3xxht65JFHLvn9Wltb1dLS4rd1\n",
              "dHR0+zgAAOhPgv6ev8fj8XtlwO12y+PxSJLa2tqUn5+vtWvXKiQk5JKPtWLFCoWHh/ttlZWVts0O\n",
              "AEBfFPT4X0xpaanmz5+vG264oVPri4uL1dzc7LelpaXZPCUAAH1LaLAHcLlcOnDggO92fX29XC6X\n",
              "JGn79u3yeDx64YUX1N7erpaWFrndbu3evVuRkZHnPJbT6ZTT6fS7rzOvGAAAYJKgP/PPzs5WeXm5\n",
              "mpqaZFmW1qxZo5ycHEnSjh07dPDgQdXX12vnzp0KCwtTfX39ecMPAAA6x9b4FxQUKDo6Wo2NjZoz\n",
              "Z47i4uIkSXl5eSovL5ckxcbGqrS0VDNmzFBcXJwiIyNVUFBg51gAABjNYVmWFewh7FRYWKiVK1cG\n",
              "ewwAAHqNoL/sDwAAehbxBwDAMMQfAADDEH8AAAxD/AEAMAzxBwDAMMQfAADDEH8AAAxD/AEAMAzx\n",
              "BwDAMMQfAADDEH8AAAxD/AEAMAzxBwDAMMQfAADDEH8AAAxD/AEAMAzxBwDAMMQfAADDEH8AAAxD\n",
              "/AEAMAzxBwDAMMQfAADDEH8AAAxD/AEAMAzxBwDAMMQfAADDEH8AAAxD/AEAMAzxBwDAMMQfAADD\n",
              "2Br/JUuWyO12y+FwqKam5oLr1q9frzFjxmj06NHKz89XW1ubJGnbtm1KS0tTYmKixo0bp6KiInm9\n",
              "XjtHBgCg37M1/gsWLNDOnTsVExNzwTV1dXUqKSnRjh07VFtbq8OHD2vdunWSpGHDhum1117Tvn37\n",
              "9O9//1sVFRV6+eWX7RwZAIB+z9b4z5w5U9HR0RddU1ZWpqysLEVFRcnhcGjx4sXatGmTJCklJUWx\n",
              "sbGSpEGDBik5OVn19fV2jgwAQL8XGuwBPB6P3ysDbrdbHo/nnHVNTU0qKyvTm2++ecHHam1tVWtr\n",
              "q999HR0dgRsWAIB+oE9c8NfS0qLMzEwVFRVp8uTJF1y3YsUKhYeH+22VlZU9OCkAAL1f0OPvcrl0\n",
              "8OBB3+36+nq5XC7f7RMnTigjI0O33XabCgsLL/pYxcXFam5u9tvS0tJsmx0AgL4o6PHPzs5WeXm5\n",
              "mpqaZFmW1qxZo5ycHEnSyZMnlZGRoYyMDP3yl7+85GM5nU6FhYX5bSEhIXYfAgAAfYqt8S8oKFB0\n",
              "dLQaGxs1Z84cxcXFSZLy8vJUXl4uSYqNjVVpaalmzJihuLg4RUZGqqCgQJK0atUqVVZWauvWrUpO\n",
              "TlZycrJ+85vf2DkyAAD9nsOyLCvYQ9ipsLBQK1euDPYYAAD0GkF/2R8AAPQs4g8AgGGIPwAAhiH+\n",
              "AAAYhvgDAGAY4g8AgGGIPwAAhiH+AAAYhvgDAGAY4g8AgGGIPwAAhiH+AAAYhvgDAGAY4g8AgGGI\n",
              "PwAAhiH+AAAYhvgDAGCY0Mv5on379qmxsVGDBw/W+PHjFREREeCxAACAXTod/xMnTui3v/2tXnzx\n",
              "RQ0ZMkTDhw/X6dOndeDAAaWlpWn58uX63ve+Z+esAAAgADod/1mzZumee+5RdXW1hg8f7rvf6/Vq\n",
              "x44dWrNmjWpra1VQUGDLoAAAIDA6Hf9du3bJ6XSec/+AAQOUnp6u9PR0tba2BnQ4AAAQeJ2+4O98\n",
              "4b+cNQAAILg6Hf9bb71VFRUV59331Vdf6ZlnntHatWsDNhgAALBHp1/2f+KJJ1RcXKx9+/ZpypQp\n",
              "vgv+Pv74Y3322Wf6yU9+ovvuu8/OWQEAQAB0Ov4TJkzQ3/72NzU0NGj79u1qbGzUkCFD9KMf/Ug3\n",
              "3nijQkMv67cGAQBAD+tysY8fP66FCxf63ffBBx9owoQJARsKAADYp8uf8Jebm9up+wAAQO/U6Wf+\n",
              "R44cUVNTk06dOqUPP/xQlmVJkpqbm/X111/bNiAAAAisTsd/06ZNeu655/T5558rKyvLd394eLiK\n",
              "iopsGQ4AAARep+O/dOlSLV26VL/+9a9VUlJi50wAAMBGXb7gr6SkRF6vV01NTWpvb/fd73K5AjoY\n",
              "AACwR5cv+PvjH/+oiIgIjR8/XqmpqUpNTdXkyZPPu3bJkiVyu91yOByqqam54GOuX79eY8aM0ejR\n",
              "o5Wfn6+2trZO7QMAAF3X5fg/9thj2r17t7744gsdPXpUR48e1ZEjR867dsGCBdq5c6diYmIu+Hh1\n",
              "dXUqKSnRjh07VFtbq8OHD2vdunWX3AcAAC5Pl+N/zTXXKCEhoVNrZ86cqejo6IuuKSsrU1ZWlqKi\n",
              "ouRwOLR48WJt2rTpkvsAAMDl6fJ7/rfffruee+45/fCHP9SgQYN894eFhV3WAB6Px++VAbfbLY/H\n",
              "c8l959Pa2nrOXxbs6Oi4rLkAAOivuvzM/xe/+IUKCwsVFRWlYcOGKSIiQsOGDbNjti5bsWKFwsPD\n",
              "/bbKyspgjwUAQK/S5fh7vV7f1tHR4fvv5XK5XDp48KDvdn19ve83By6273yKi4vV3Nzst6WlpV32\n",
              "bAAA9Eddjn+gZWdnq7y8XE1NTbIsS2vWrFFOTs4l952P0+lUWFiY3xYSEtJThwIAQJ/Q5fgPGDBA\n",
              "ISEh52znU1BQoOjoaDU2NmrOnDmKi4uTJOXl5am8vFySFBsbq9LSUs2YMUNxcXGKjIxUQUHBJfcB\n",
              "AIDL47D+9yH9nfTtz/E/deqUXn75ZXV0dOjhhx8O+HCBUFhYqJUrVwZ7DAAAeo0uP/MfOnSob7vm\n",
              "mmtUWFiosrIyO2YDAAA26PZ7/h9//LGOHTsWiFkAAEAP6PLv+Q8bNkwOh0OSfJ/tv3r16sBOBQAA\n",
              "bNPl+H/7M/pDQ0MVFRXFFfUAAPQhXY5/TEyMvvnmG98PAcOGDdOQIUMCPRcAALBJl+NfUVGh7Oxs\n",
              "RUVFSZIOHz6sLVu2aNq0aQEfDgAABF6X4/+/q/tnzJgh6ewPA8uWLdN7770X8OEAAEDgdflq/1On\n",
              "TvnCL0nTp0/X6dOnAzoUAACwT5fjf+WVV+qdd97x3X733Xc1dOjQgA4FAADs0+WX/Z9//nnNnz/f\n",
              "d4W/1+vV1q1bAz4YAACwR5fj//nnn2vPnj06fPiwJGn48OH82VwAAPqQLr/sX1JSosjISCUlJSkp\n",
              "KUnXXHONSkpK7JgNAADYoNsf7+twONTR0RGIWQAAQA/ocvyvuuoqVVRU+G7v2rVLV111VUCHAgAA\n",
              "9unye/5PP/205s2bp7Fjx0qS9u/frz//+c8BHwwAANijy/GfNm2aPvroI/3rX/+SdPb3/CMiIgI9\n",
              "FwAAsEmX4y+d/Tz/73//+4GeBQAA9IBuX/AHAAD6FuIPAIBhiD8AAIYh/gAAGIb4AwBgGOIPAIBh\n",
              "iD8AAIYh/gAAGIb4AwBgGOIPAIBhiD8AAIYh/gAAGIb4AwBgGOIPAIBhbI3//v37NX36dMXHx2vK\n",
              "lCnau3fvOWu8Xq8eeughJSUlaezYsVq0aJHOnDnj2//UU08pMTFRycnJmjp1qiorK+0cGQCAfs/W\n",
              "+BcUFOj+++/XJ598ouXLlys3N/ecNevXr1dVVZWqqqr00UcfacCAAVq1apUkqaamRr/73e9UWVmp\n",
              "mpoaPfDAA3rggQfsHBkAgH7PtvgfOXJEe/bs0cKFCyVJ2dnZamhoUG1trd+6999/X7Nnz9bAgQPl\n",
              "cDg0d+5cbdy4UZLkcDjU1tamr7/+WpL01VdfKTo62q6RAQAwQqhdD9zQ0KARI0YoNPTst3A4HHK5\n",
              "XPJ4PIqLi/OtS01N1dq1a/XAAw9o8ODB2rx5s+rr6yVJEydO1LJlyzRq1ChdffXVcjqd+uc//3nB\n",
              "79na2qrW1la/+zo6OgJ/cAAA9GFBv+AvNzdXGRkZSk9PV3p6uuLj430/MNTV1Wnr1q2qra1VY2Oj\n",
              "li1bprvuuuuCj7VixQqFh4f7bVwjAACAP9viP3LkSB06dEjt7e2SJMuy5PF45HK5/NY5HA49+uij\n",
              "qq6uVkVFhRITEzVu3DhJ0pYtWzR+/Hhdd911kqR7771Xu3bt8rsg8NuKi4vV3Nzst6Wlpdl1iAAA\n",
              "9Em2xf/aa6/VpEmT9Morr0g6G/Lo6Gi/l/wl6fTp0zp+/Lgk6dixY3ryySdVVFQkSYqNjdWuXbt0\n",
              "8uRJSdKbb76p+Ph4DRw48Lzf0+l0KiwszG8LCQmx6xABAOiTbHvPX5LWrl2r3NxcPfHEEwoLC9OG\n",
              "DRskSXl5ecrKylJWVpaam5t10003acCAAfJ6vVq6dKkyMzMlSfPmzdPu3bs1efJkOZ1ODR06VK++\n",
              "+qqdIwMA0O85LMuygj2EnQoLC7Vy5cpgjwEAQK8R9Av+AABAzyL+AAAYhvgDAGAY4g8AgGGIPwAA\n",
              "hiH+AAAYhvgDAGAY4g8AgGGIPwAAhiH+AAAYhvgDAGAY4g8AgGGIPwAAhiH+AAAYhvgDAGAY4g8A\n",
              "gGGIPwAAhiH+AAAYhvgDAGAY4g8AgGGIPwAAhiH+AAAYhvgDAGAY4g8AgGGIPwAAhiH+AAAYhvgD\n",
              "AGAY4g8AgGGIPwAAhiH+AAAYhvgDAGAYW+O/f/9+TZ8+XfHx8ZoyZYr27t17zhqv16uHHnpISUlJ\n",
              "Gjt2rBYtWqQzZ8749ns8HmVmZiohIUGJiYlavXq1nSMDANDv2Rr/goIC3X///frkk0+0fPly5ebm\n",
              "nrNm/fr1qqqqUlVVlT766CMNGDBAq1atkiRZlqV58+bpnnvu0X//+1/t27dPd955p50jAwDQ79kW\n",
              "/yNHjmjPnj1auHChJCk7O1sNDQ2qra31W/f+++9r9uzZGjhwoBwOh+bOnauNGzdKkt599105nU7d\n",
              "cccdvvXDhw+3a2QAAIxgW/wbGho0YsQIhYaGSpIcDodcLpc8Ho/futTUVJWXl6ulpUVtbW3avHmz\n",
              "6uvrJUn79u1TZGSkcnJylJKSonnz5unTTz+94PdsbW1VS0uL39bR0WHXIQIA0CcF/YK/3NxcZWRk\n",
              "KD09Xenp6YqPj/f9wNDe3q5t27appKRE1dXVmjNnzkVf9l+xYoXCw8P9tsrKyp46FAAA+gTb4j9y\n",
              "5EgdOnRI7e3tks6+f+/xeORyufzWORwOPfroo6qurlZFRYUSExM1btw4SZLL5VJKSorv9t13362q\n",
              "qiq1tbWd93sWFxerubnZb0tLS7PrEAEA6JNsi/+1116rSZMm6ZVXXpEkbdmyRdHR0YqLi/Nbd/r0\n",
              "aR0/flySdOzYMT355JMqKiqSJM2dO1eNjY367LPPJElvvfWWbrjhBl1xxRXn/Z5Op1NhYWF+W0hI\n",
              "iF2HCABAnxRq54OvXbtWubm5euKJJxQWFqYNGzZIkvLy8pSVlaWsrCw1Nzfrpptu0oABA+T1erV0\n",
              "6VJlZmZKkoYOHao1a9boBz/4gSzLUnh4uF577TU7RwYAoN9zWJZlBXsIOxUWFmrlypXBHgMAgF4j\n",
              "6Bf8AQCAnkX8AQAwDPEHAMAwxB8AAMMQfwAADEP8AQAwDPEHAMAwxB8AAMMQfwAADEP8AQAwDPEH\n",
              "AMAwxB8AAMMQfwAADEP8AQAwDPEHAMAwxB8AAMMQfwAADEP8AQAwDPEHAMAwxB8AAMMQfwAADEP8\n",
              "AQAwDPEHAMAwxB8AAMMQfwAADOOwLMsK9hB2mj9/vtxud7DH6DEdHR2qrKxUWlqaQkJCgj1On8Q5\n",
              "7D7OYfdxDrvP1HMYExOjpUuXXnRNv4+/aVpaWhQeHq7m5maFhYUFe5w+iXPYfZzD7uMcdh/n8MJ4\n",
              "2R8AAMMQfwAADEP8AQAwDPHvZ5xOp371q1/J6XQGe5Q+i3PYfZzD7uMcdh/n8MK44A8AAMPwzB8A\n",
              "AMMQfwAADEP8AQAwDPHvI/bv36/p06crPj5eU6ZM0d69e89Z4/V69dBDDykpKUljx47VokWLdObM\n",
              "Gd9+j8ejzMxMJSQkKDExUatXr+7JQwi6QJzDp556SomJiUpOTtbUqVNVWVnZk4cQdEuWLJHb7ZbD\n",
              "4VBNTc0F161fv15jxozR6NGjlZ+fr7a2tk7tM0F3z+G2bduUlpamxMREjRs3TkVFRfJ6vT00fe8Q\n",
              "iH+HkmRZlm6++WZFRETYO3BvZKFPmDVrlrVhwwbLsizrT3/6kzV58uRz1qxbt86aNWuW1draanm9\n",
              "XisvL896+umnLcuyLK/Xa02aNMnavHmzb31TU1OPzN5bdPccVldXWy6Xyzpx4oRlWZa1ceNGa8qU\n",
              "KT02f2+wfft2q6GhwYqJibGqq6vPu+bTTz+1RowYYR06dMjyer1WZmam9cILL1xynym6ew6rqqqs\n",
              "AwcOWJZlWadOnbJmzJjh+3dtiu6ew/955plnrLy8PCs8PNz+oXsZnvn3AUeOHNGePXu0cOFCSVJ2\n",
              "drYaGhpUW1vrt+7999/X7NmzNXDgQDkcDs2dO1cbN26UJL377rtyOp264447fOuHDx/ecwcRZIE4\n",
              "hw6HQ21tbfr6668lSV999ZWio6N79kCCbObMmZc85rKyMmVlZSkqKkoOh0OLFy/Wpk2bLrnPFN09\n",
              "hykpKYqNjZUkDRo0SMnJyaqvr7d77F6lu+dQkvbu3as33nhDjzzyiN3j9krEvw9oaGjQiBEjFBoa\n",
              "KulshFwulzwej9+61NRUlZeXq6WlRW1tbdq8ebPvfwr79u1TZGSkcnJylJKSonnz5unTTz/t6UMJ\n",
              "mkCcw4kTJ2rZsmUaNWqUoqOj9eyzzxr31klneDwexcTE+G673W7feb7YPvy/zp6npqYmlZWV6dZb\n",
              "b+3J8fqEi53DtrY25efna+3atUb9wZ9vI/79SG5urjIyMpSenq709HTFx8f7Ytfe3q5t27appKRE\n",
              "1dXVmjNnju68884gT9z7XOwc1tXVaevWraqtrVVjY6OWLVumu+66K8gTw1QtLS3KzMxUUVGRJk+e\n",
              "HOxx+pTS0lLNnz9fN9xwQ7BHCRri3weMHDlShw4dUnt7u6SzF6l4PB65XC6/dQ6HQ48++qiqq6tV\n",
              "UVHhuyBIklwul1JSUny37777blVVVRlzsVUgzuGWLVs0fvx4XXfddZKke++9V7t27fK7IBBn/60d\n",
              "PHjQd7u+vt53ni+2D//vUufpxIkTysjI0G233abCwsJgjNjrXewcbt++XatXr5bb7daNN96olpYW\n",
              "ud1uHT16NFjj9rxgX3SAzklPT/e7WC01NfWcNadOnbK+/PJLy7Is6+jRo9bEiROt8vJyy7Is6+TJ\n",
              "k9aoUaOsxsZGy7Isa/PmzVZiYmLPDN9LdPccbtmyxUpMTPRd8Pfaa69Z8fHxPTN8L3OxC60OHDhw\n",
              "zoVWq1evvuQ+01zuOTxx4oQ1ffp0q7S0tAen7Z0u9xx+W11dnZEX/BH/PuLjjz+2pk6dao0ZM8ZK\n",
              "TU21PvjgA8uyLGvRokXWX/7yF8uyzl69P3bsWCsxMdEaO3as9fvf/97vMd5++21r4sSJ1oQJE6zv\n",
              "fve7vscwRXfPodfrtR555BErISHBmjBhgjVt2jRrz549QTmWYLn//vut66+/3goJCbGuvfZaa/To\n",
              "0ZZl+Z9Dyzr7WxOxsbFWbGysdd9991lnzpzp1D4TdPccPv7441ZoaKg1ceJE3/b4448H5ViCJRD/\n",
              "Dv/H1Pjz2f4AABiG9/wBADAM8QcAwDDEHwAAw4QGewAAweV2u+V0OjV48GC1trYqJSVFL774ooYO\n",
              "HRrs0QDYhGf+APT666+rpqZGe/fuVXNzs/7whz8EeyQANiL+AHzOnDmjb775RsOGDVNHR4cefvhh\n",
              "JSUlKSkpSQ8++KDvA42Kioo0adIkTZgwQTNnzvR9BHJubq7uu+8+319P/PGPf6xTp05Jkl599VV9\n",
              "5zvfUUpKiiZOnKi//vWvvu/72WefacGCBRo/frwmTJigkpIS7dixQ8nJyUpOTtbAgQOVkJCg5ORk\n",
              "PfbYYz1+XoD+hl/1Awz37Zf96+vrlZqaqrffflsvvviiXn/9db399tsKCQlRVlaW0tPTtXz5cr+v\n",
              "z8nJUUJCgkpLS5Wbm6vdu3frvffe05AhQ3T77bdr2rRp+vnPf64vvvhCV199tRwOh+rr6zV16lQd\n",
              "PHhQTqdTs2bN0i233KLi4mJJ0tGjRxUZGek34xtvvKHk5OSePDVAv8UzfwC+l/2PHTsmt9ut5cuX\n",
              "65133lFubq6cTqdCQ0OVn5+vf/zjH76vWbJkia6//np9+OGHys3N9d1/55136qqrrlJISIgWLVqk\n",
              "d955R9LZv40wd+5cJSUl6fbbb9eXX36puro6nTx5Ujt37tTPfvYz32N8O/wAAo/4A/AJDQ1Vdna2\n",
              "/v73v5+zz+Fw+N1+/vnn5fF4NG3aNL311lsXfMz/fV1OTo7y8vL0n//8RzU1Nbryyit1+vTpwB4A\n",
              "gE4h/gD8bNu2TQkJCZo9e7ZefvllnTlzRu3t7XrppZd0yy23SJK+/PJLSVJISIgGDRqkmpoa39eX\n",
              "lZXp5MmT6ujo0IYNGzR79mxJ0vHjxzVq1ChJ0iuvvKLjx49Lkq688krNnDlTzzzzjO8xjPoDK0AQ\n",
              "8Kt+AHTXXXdp8ODBam9vV0xMjNasWaPrrrtOBw4c0KRJkyRJN910k376059Kku655x41NDSotbVV\n",
              "I0eO1EsvveR7rClTpmjOnDk6evSopk2b5vuaVatWacGCBYqIiNDNN9/s91fqNm7cqAcffFDjxo3T\n",
              "FVdcodtuu02lpaU9dvyAabjgD0DA5ObmKjk52Rd8AL0TL/sDAGAYnvkDAGAYnvkDAGAY4g8AgGGI\n",
              "PwAAhiH+AAAYhvgDAGAY4g8AgGGIPwAAhiH+AAAY5v8AdYqDryGdPLIAAAAASUVORK5CYII=\n",
              "\">\n",
              "        \n",
              "      </div>\n",
              "      <script></script>\n",
              "      <script type=\"text/javascript\">\n",
              "        (() => {\n",
              "          const chartElement = document.getElementById(\"chart-ef4d675d-637b-407e-82de-16c9c8820f57\");\n",
              "          async function getCodeForChartHandler(event) {\n",
              "            const chartCodeResponse =  await google.colab.kernel.invokeFunction(\n",
              "                'getCodeForChart', [\"chart-ef4d675d-637b-407e-82de-16c9c8820f57\"], {});\n",
              "            const responseJson = chartCodeResponse.data['application/json'];\n",
              "            await google.colab.notebook.addCell(responseJson.code, 'code');\n",
              "          }\n",
              "          chartElement.onclick = getCodeForChartHandler;\n",
              "        })();\n",
              "      </script>\n",
              "      <style>\n",
              "        .colab-quickchart-chart-with-code  {\n",
              "            display: block;\n",
              "            float: left;\n",
              "            border: 1px solid transparent;\n",
              "        }\n",
              "\n",
              "        .colab-quickchart-chart-with-code:hover {\n",
              "            cursor: pointer;\n",
              "            border: 1px solid #aaa;\n",
              "        }\n",
              "      </style>"
            ]
          },
          "metadata": {}
        }
      ]
    }
  ]
}